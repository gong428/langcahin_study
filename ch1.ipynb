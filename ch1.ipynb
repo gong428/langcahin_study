{
 "cells": [
  {
   "cell_type": "code",
   "execution_count": 1,
   "metadata": {},
   "outputs": [
    {
     "data": {
      "text/plain": [
       "True"
      ]
     },
     "execution_count": 1,
     "metadata": {},
     "output_type": "execute_result"
    }
   ],
   "source": [
    "from dotenv import load_dotenv\n",
    "\n",
    "# API KEY 정보로드\n",
    "load_dotenv()"
   ]
  },
  {
   "cell_type": "code",
   "execution_count": 2,
   "metadata": {},
   "outputs": [
    {
     "name": "stdout",
     "output_type": "stream",
     "text": [
      "LangSmith 추적을 시작합니다.\n",
      "[프로젝트명]\n",
      "CH01-Basic\n"
     ]
    }
   ],
   "source": [
    "from langchain_teddynote import logging\n",
    "\n",
    "logging.langsmith(\"CH01-Basic\",set_enable=True)"
   ]
  },
  {
   "cell_type": "code",
   "execution_count": 3,
   "metadata": {},
   "outputs": [],
   "source": [
    "from langchain_core.prompts import PromptTemplate"
   ]
  },
  {
   "cell_type": "markdown",
   "metadata": {},
   "source": [
    "### 1. llm에 질문하는 프롬프트 만들기\n",
    "1. 변수가 들어가는 문자열 변수 생성\n",
    "2. PromptTemplate.from_template으로 PromptTemplate 객체생성\n",
    "2-1. PromptTemplate 객체는 변수에 값을 채워 동적으로 프롬프트를 작성 가능함."
   ]
  },
  {
   "cell_type": "code",
   "execution_count": 4,
   "metadata": {},
   "outputs": [],
   "source": [
    "template = \"안녕하세요는 {country}로 어떻게 말해?\""
   ]
  },
  {
   "cell_type": "code",
   "execution_count": 5,
   "metadata": {},
   "outputs": [],
   "source": [
    "prompt = PromptTemplate.from_template(template)"
   ]
  },
  {
   "cell_type": "code",
   "execution_count": 6,
   "metadata": {},
   "outputs": [
    {
     "name": "stdout",
     "output_type": "stream",
     "text": [
      "안녕하세요는 영어로 어떻게 말해?\n",
      "안녕하세요는 일본어로 어떻게 말해?\n"
     ]
    }
   ],
   "source": [
    "english_prompt = prompt.format(country = \"영어\")\n",
    "japanes_prompt = prompt.format(country = \"일본어\")\n",
    "\n",
    "print(english_prompt)\n",
    "print(japanes_prompt)"
   ]
  },
  {
   "cell_type": "markdown",
   "metadata": {},
   "source": [
    "### 2. 모델 생성 및 호출\n",
    "1. ChatOpenAI는 openAI로 모델을 선언함. 다양한 모델은 향후 학습\n",
    "2. .invoke(input) 모델을 호출하는 명령어\n",
    "2-1. input에 프롬프트를 삽입\n",
    "2-2. 원하는 모델에 .invoke()사용으로 질문에 대한 답변을 호출"
   ]
  },
  {
   "cell_type": "code",
   "execution_count": 7,
   "metadata": {},
   "outputs": [],
   "source": [
    "from langchain_openai import ChatOpenAI\n",
    "\n",
    "model = ChatOpenAI(model_name = \"gpt-4o-mini\")\n"
   ]
  },
  {
   "cell_type": "code",
   "execution_count": 8,
   "metadata": {},
   "outputs": [
    {
     "data": {
      "text/plain": [
       "AIMessage(content='안녕하세요는 일본어로 \"こんにちは\" (곤니치와)라고 말합니다.', additional_kwargs={'refusal': None}, response_metadata={'token_usage': {'completion_tokens': 19, 'prompt_tokens': 17, 'total_tokens': 36, 'completion_tokens_details': {'audio_tokens': None, 'reasoning_tokens': 0, 'accepted_prediction_tokens': 0, 'rejected_prediction_tokens': 0}, 'prompt_tokens_details': {'audio_tokens': None, 'cached_tokens': 0}}, 'model_name': 'gpt-4o-mini-2024-07-18', 'system_fingerprint': 'fp_0ba0d124f1', 'finish_reason': 'stop', 'logprobs': None}, id='run-cc608545-4c95-41a3-8204-829f83b88201-0', usage_metadata={'input_tokens': 17, 'output_tokens': 19, 'total_tokens': 36, 'input_token_details': {'cache_read': 0}, 'output_token_details': {'reasoning': 0}})"
      ]
     },
     "execution_count": 8,
     "metadata": {},
     "output_type": "execute_result"
    }
   ],
   "source": [
    "model.invoke(japanes_prompt)"
   ]
  },
  {
   "cell_type": "markdown",
   "metadata": {},
   "source": [
    "### 3. Chain\n",
    "\n"
   ]
  },
  {
   "cell_type": "code",
   "execution_count": 9,
   "metadata": {},
   "outputs": [],
   "source": [
    "chain = prompt|model"
   ]
  },
  {
   "cell_type": "code",
   "execution_count": null,
   "metadata": {},
   "outputs": [
    {
     "data": {
      "text/plain": [
       "AIMessage(content='안녕하세요는 스페인어로 \"Hola\"라고 말합니다.', additional_kwargs={'refusal': None}, response_metadata={'token_usage': {'completion_tokens': 15, 'prompt_tokens': 19, 'total_tokens': 34, 'completion_tokens_details': {'audio_tokens': None, 'reasoning_tokens': 0, 'accepted_prediction_tokens': 0, 'rejected_prediction_tokens': 0}, 'prompt_tokens_details': {'audio_tokens': None, 'cached_tokens': 0}}, 'model_name': 'gpt-4o-mini-2024-07-18', 'system_fingerprint': 'fp_0ba0d124f1', 'finish_reason': 'stop', 'logprobs': None}, id='run-8aa30ec8-c63f-493c-aa22-936be39567cf-0', usage_metadata={'input_tokens': 19, 'output_tokens': 15, 'total_tokens': 34, 'input_token_details': {'cache_read': 0}, 'output_token_details': {'reasoning': 0}})"
      ]
     },
     "execution_count": 10,
     "metadata": {},
     "output_type": "execute_result"
    }
   ],
   "source": [
    "# \n",
    "chain.invoke({\"country\": \"스페인어\"})"
   ]
  },
  {
   "cell_type": "code",
   "execution_count": 14,
   "metadata": {},
   "outputs": [],
   "source": [
    "from langchain_core.messages import AIMessageChunk\n",
    "response = chain.stream({\"country\": \"스페인어\"})\n",
    "\n",
    "\n",
    "def stream(response):\n",
    "    answer = \"\"\n",
    "    for token in response:\n",
    "        if isinstance(token, AIMessageChunk):\n",
    "                answer += token.content\n",
    "                print(token.content, end=\"\", flush=True)\n",
    "        elif isinstance(token, str):\n",
    "                answer += token\n",
    "                print(token, end=\"\", flush=True)"
   ]
  },
  {
   "cell_type": "markdown",
   "metadata": {},
   "source": [
    "### 출력 파서 StrOutputParser 결과를 문자열 형식으로 출력"
   ]
  },
  {
   "cell_type": "code",
   "execution_count": 11,
   "metadata": {},
   "outputs": [],
   "source": [
    "from langchain_core.output_parsers import StrOutputParser\n",
    "output_parser = StrOutputParser()\n"
   ]
  },
  {
   "cell_type": "code",
   "execution_count": 12,
   "metadata": {},
   "outputs": [],
   "source": [
    "template = \"\"\"\n",
    "    너는 question에 상황을 학습용 영어회화를 해주는 어시스턴트야.\n",
    "    question에 [FORMAT]에 영어회화를 작성해.\n",
    "\n",
    "    question : {question}\n",
    "\n",
    "    FORMAT:\n",
    "    - 영어 회화:\n",
    "    - 한글 해석:\n",
    "\n",
    "\"\"\"\n",
    "\n",
    "prompt = PromptTemplate.from_template(template)\n"
   ]
  },
  {
   "cell_type": "code",
   "execution_count": 15,
   "metadata": {},
   "outputs": [
    {
     "name": "stdout",
     "output_type": "stream",
     "text": [
      "- 영어 회화:  \n",
      "Customer: Hi, I would like to pick up my flight ticket that I reserved.  \n",
      "Staff: Sure! Can I have your name and reservation number, please?  \n",
      "Customer: My name is [Your Name], and my reservation number is [Your Reservation Number].  \n",
      "Staff: Thank you! Here is your ticket. Have a great flight!  \n",
      "\n",
      "- 한글 해석:  \n",
      "고객: 안녕하세요, 제가 예약한 비행기표를 받고 싶어요.  \n",
      "직원: 물론이죠! 이름과 예약 번호를 말씀해 주시겠어요?  \n",
      "고객: 제 이름은 [당신의 이름]이고, 예약 번호는 [당신의 예약 번호]입니다.  \n",
      "직원: 감사합니다! 여기 당신의 티켓입니다. 좋은 비행 되세요!  "
     ]
    }
   ],
   "source": [
    "chain = prompt|model|output_parser\n",
    "response = chain.invoke({\"question\":\"저는 안내데스크에서 예약한 비행기표를 받고 싶어요.\"})\n",
    "\n",
    "stream(response)"
   ]
  },
  {
   "cell_type": "markdown",
   "metadata": {},
   "source": [
    "### 표준 호출\n",
    "- stream: 응답의 청크를 스트리밍합니다.\n",
    "- invoke: 입력에 대해 체인을 호출합니다.\n",
    "- batch: 입력 목록에 대해 체인을 호출합니다."
   ]
  },
  {
   "cell_type": "markdown",
   "metadata": {},
   "source": []
  },
  {
   "cell_type": "code",
   "execution_count": 16,
   "metadata": {},
   "outputs": [
    {
     "name": "stdout",
     "output_type": "stream",
     "text": [
      "- 영어 회화:  \n",
      "  A: Hi, I would like to pick up my flight tickets that I reserved.  \n",
      "  B: Sure! Can I have your name and reservation number, please?  \n",
      "  A: My name is [Your Name] and the reservation number is [Reservation Number].  \n",
      "  B: Thank you! Here are your tickets. Have a great flight!\n",
      "\n",
      "- 한글 해석:  \n",
      "  A: 안녕하세요, 예약한 비행기표를 받고 싶어요.  \n",
      "  B: 물론입니다! 이름과 예약 번호를 주시겠어요?  \n",
      "  A: 제 이름은 [당신의 이름]이고 예약 번호는 [예약 번호]입니다.  \n",
      "  B: 감사합니다! 여기 당신의 티켓입니다. 좋은 비행 되세요!"
     ]
    }
   ],
   "source": [
    "for token in chain.stream({\"question\":\"저는 안내데스크에서 예약한 비행기표를 받고 싶어요.\"}):\n",
    "    print(token, end = \"\",flush=True)"
   ]
  },
  {
   "cell_type": "code",
   "execution_count": 17,
   "metadata": {},
   "outputs": [
    {
     "data": {
      "text/plain": [
       "'- 영어 회화:  \\nA: Hi there! How can I help you today?  \\nB: Hello! I would like to pick up my flight tickets that I reserved.  \\nA: Sure! Can I have your name and reservation number, please?  \\nB: Yes, my name is [Your Name] and my reservation number is [Your Reservation Number].  \\nA: Thank you! Let me check that for you.  \\nB: Great, thank you!\\n\\n- 한글 해석:  \\nA: 안녕하세요! 오늘 무엇을 도와드릴까요?  \\nB: 안녕하세요! 예약한 비행기표를 받고 싶습니다.  \\nA: 물론입니다! 성함과 예약 번호를 알려주시겠어요?  \\nB: 네, 제 이름은 [당신의 이름]이고 예약 번호는 [당신의 예약 번호]입니다.  \\nA: 감사합니다! 확인해보겠습니다.  \\nB: 좋습니다, 감사합니다!'"
      ]
     },
     "execution_count": 17,
     "metadata": {},
     "output_type": "execute_result"
    }
   ],
   "source": [
    "chain.invoke({\"question\":\"저는 안내데스크에서 예약한 비행기표를 받고 싶어요.\"})"
   ]
  },
  {
   "cell_type": "code",
   "execution_count": 18,
   "metadata": {},
   "outputs": [
    {
     "data": {
      "text/plain": [
       "['- 영어 회화:  \\nA: Hi there! How can I help you today?  \\nB: Hello! I would like to pick up my flight ticket that I reserved.  \\nA: Sure! Can I have your name and reservation number, please?  \\nB: My name is Kim and my reservation number is 123456.  \\nA: Thank you, Kim. Here’s your ticket! Have a great flight!  \\nB: Thank you very much!\\n\\n- 한글 해석:  \\nA: 안녕하세요! 오늘 무엇을 도와드릴까요?  \\nB: 안녕하세요! 예약한 비행기표를 받고 싶어요.  \\nA: 물론입니다! 이름과 예약 번호를 알려주시겠어요?  \\nB: 제 이름은 김이고 예약 번호는 123456입니다.  \\nA: 감사합니다, 김님. 여기 당신의 비행기표입니다! 좋은 비행 되세요!  \\nB: 정말 감사합니다!',\n",
       " '- 영어 회화:\\n  A: Hi there! What would you like to order?\\n  B: I would like to order a pizza, please.\\n  A: Sure! What toppings would you like on your pizza?\\n  B: I’d like pepperoni and mushrooms, please.\\n  A: Great choice! Would you like anything to drink with that?\\n  B: Yes, I’ll have a soda, please.\\n\\n- 한글 해석:\\n  A: 안녕하세요! 무엇을 주문하시겠어요?\\n  B: 피자를 주문하고 싶어요.\\n  A: 알겠습니다! 피자에 어떤 토핑을 원하시나요?\\n  B: 페퍼로니와 버섯을 원합니다.\\n  A: 좋은 선택이에요! 음료수는 무엇을 드릴까요?\\n  B: 네, 탄산음료 하나 주세요.']"
      ]
     },
     "execution_count": 18,
     "metadata": {},
     "output_type": "execute_result"
    }
   ],
   "source": [
    "chain.batch([{\"question\":\"저는 안내데스크에서 예약한 비행기표를 받고 싶어요.\"},{\"question\":\"저는 음식점에서 피자를 주문하고 싶어요.\"}])"
   ]
  },
  {
   "cell_type": "markdown",
   "metadata": {},
   "source": [
    "### 비동기 호출"
   ]
  },
  {
   "cell_type": "code",
   "execution_count": 20,
   "metadata": {},
   "outputs": [
    {
     "name": "stdout",
     "output_type": "stream",
     "text": [
      "- 영어 회화:  \n",
      "A: Hello! How can I help you today?  \n",
      "B: Hi, I would like to pick up my flight ticket that I reserved.  \n",
      "A: Sure! Can I have your name and the reservation number, please?  \n",
      "B: My name is [Your Name], and the reservation number is [Reservation Number].  \n",
      "A: Thank you! Let me check that for you. Here’s your ticket. Have a great flight!  \n",
      "\n",
      "- 한글 해석:  \n",
      "A: 안녕하세요! 오늘 무엇을 도와드릴까요?  \n",
      "B: 안녕하세요, 예약한 비행기표를 받고 싶어요.  \n",
      "A: 물론입니다! 성함과 예약 번호를 말씀해 주시겠어요?  \n",
      "B: 제 이름은 [당신의 이름]이고, 예약 번호는 [예약 번호]입니다.  \n",
      "A: 감사합니다! 확인해 볼게요. 여기 당신의 비행기표입니다. 좋은 비행 되세요!"
     ]
    }
   ],
   "source": [
    "async for token in chain.astream({\"question\":\"저는 안내데스크에서 예약한 비행기표를 받고 싶어요.\"}):\n",
    "    print(token, end = \"\",flush=True)"
   ]
  },
  {
   "cell_type": "code",
   "execution_count": 22,
   "metadata": {},
   "outputs": [
    {
     "data": {
      "text/plain": [
       "'- 영어 회화:  \\nCustomer: Hi, I would like to pick up my flight tickets that I reserved.  \\nStaff: Sure! Can I have your name and reservation number, please?  \\nCustomer: My name is [Your Name] and the reservation number is [Your Reservation Number].  \\nStaff: Thank you! Let me check that for you. Here are your tickets. Have a great flight!\\n\\n- 한글 해석:  \\n고객: 안녕하세요, 제가 예약한 비행기표를 받고 싶어요.  \\n직원: 물론이죠! 성함과 예약 번호를 알려주시겠어요?  \\n고객: 제 이름은 [당신의 이름]이고 예약 번호는 [당신의 예약 번호]입니다.  \\n직원: 감사합니다! 확인해볼게요. 여기 귀하의 비행기표입니다. 좋은 비행 되세요!'"
      ]
     },
     "execution_count": 22,
     "metadata": {},
     "output_type": "execute_result"
    }
   ],
   "source": [
    "my_process = chain.ainvoke({\"question\":\"저는 안내데스크에서 예약한 비행기표를 받고 싶어요.\"})\n",
    "await my_process"
   ]
  },
  {
   "cell_type": "code",
   "execution_count": null,
   "metadata": {},
   "outputs": [],
   "source": [
    "my_process = chain.batch([{\"question\":\"저는 안내데스크에서 예약한 비행기표를 받고 싶어요.\"},{\"question\":\"저는 음식점에서 피자를 주문하고 싶어요.\"}])\n",
    "await my_process"
   ]
  }
 ],
 "metadata": {
  "kernelspec": {
   "display_name": "lanchain_study311",
   "language": "python",
   "name": "python3"
  },
  "language_info": {
   "codemirror_mode": {
    "name": "ipython",
    "version": 3
   },
   "file_extension": ".py",
   "mimetype": "text/x-python",
   "name": "python",
   "nbconvert_exporter": "python",
   "pygments_lexer": "ipython3",
   "version": "3.11.10"
  }
 },
 "nbformat": 4,
 "nbformat_minor": 2
}
