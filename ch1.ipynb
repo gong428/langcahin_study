{
 "cells": [
  {
   "cell_type": "code",
   "execution_count": 1,
   "metadata": {},
   "outputs": [
    {
     "data": {
      "text/plain": [
       "True"
      ]
     },
     "execution_count": 1,
     "metadata": {},
     "output_type": "execute_result"
    }
   ],
   "source": [
    "from dotenv import load_dotenv\n",
    "\n",
    "# API KEY 정보로드\n",
    "load_dotenv()"
   ]
  },
  {
   "cell_type": "code",
   "execution_count": 3,
   "metadata": {},
   "outputs": [
    {
     "name": "stdout",
     "output_type": "stream",
     "text": [
      "LangSmith 추적을 시작합니다.\n",
      "[프로젝트명]\n",
      "CH01-Basic\n"
     ]
    }
   ],
   "source": [
    "from langchain_teddynote import logging\n",
    "\n",
    "logging.langsmith(\"CH01-Basic\",set_enable=True)"
   ]
  },
  {
   "cell_type": "code",
   "execution_count": 4,
   "metadata": {},
   "outputs": [],
   "source": [
    "from langchain_core.prompts import PromptTemplate"
   ]
  },
  {
   "cell_type": "markdown",
   "metadata": {},
   "source": [
    "### 1. llm에 질문하는 프롬프트 만들기\n",
    "1. 변수가 들어가는 문자열 변수 생성\n",
    "2. PromptTemplate.from_template으로 PromptTemplate 객체생성\n",
    "2-1. PromptTemplate 객체는 변수에 값을 채워 동적으로 프롬프트를 작성 가능함."
   ]
  },
  {
   "cell_type": "code",
   "execution_count": 8,
   "metadata": {},
   "outputs": [],
   "source": [
    "template = \"안녕하세요는 {country}로 어떻게 말해?\""
   ]
  },
  {
   "cell_type": "code",
   "execution_count": 9,
   "metadata": {},
   "outputs": [],
   "source": [
    "prompt = PromptTemplate.from_template(template)"
   ]
  },
  {
   "cell_type": "code",
   "execution_count": 10,
   "metadata": {},
   "outputs": [
    {
     "name": "stdout",
     "output_type": "stream",
     "text": [
      "안녕하세요는 영어로 어떻게 말해?\n",
      "안녕하세요는 일본어로 어떻게 말해?\n"
     ]
    }
   ],
   "source": [
    "english_prompt = prompt.format(country = \"영어\")\n",
    "japanes_prompt = prompt.format(country = \"일본어\")\n",
    "\n",
    "print(english_prompt)\n",
    "print(japanes_prompt)"
   ]
  },
  {
   "cell_type": "markdown",
   "metadata": {},
   "source": [
    "### 2. 모델 생성 및 호출\n",
    "1. ChatOpenAI는 openAI로 모델을 선언함. 다양한 모델은 향후 학습\n",
    "2. .invoke(input) 모델을 호출하는 명령어\n",
    "2-1. input에 프롬프트를 삽입\n",
    "2-2. 원하는 모델에 .invoke()사용으로 질문에 대한 답변을 호출"
   ]
  },
  {
   "cell_type": "code",
   "execution_count": 23,
   "metadata": {},
   "outputs": [],
   "source": [
    "from langchain_openai import ChatOpenAI\n",
    "\n",
    "model = ChatOpenAI(model_name = \"gpt-4o-mini\")\n"
   ]
  },
  {
   "cell_type": "code",
   "execution_count": 26,
   "metadata": {},
   "outputs": [
    {
     "data": {
      "text/plain": [
       "AIMessage(content='안녕하세요는 일본어로 \"こんにちは\" (곤니치와)라고 말합니다.', additional_kwargs={'refusal': None}, response_metadata={'token_usage': {'completion_tokens': 19, 'prompt_tokens': 17, 'total_tokens': 36, 'completion_tokens_details': {'audio_tokens': None, 'reasoning_tokens': 0}, 'prompt_tokens_details': {'audio_tokens': None, 'cached_tokens': 0}}, 'model_name': 'gpt-4o-mini-2024-07-18', 'system_fingerprint': 'fp_9b78b61c52', 'finish_reason': 'stop', 'logprobs': None}, id='run-e653ed05-3604-4903-bb41-ebb3e7c1f1ec-0', usage_metadata={'input_tokens': 17, 'output_tokens': 19, 'total_tokens': 36, 'input_token_details': {'cache_read': 0}, 'output_token_details': {'reasoning': 0}})"
      ]
     },
     "execution_count": 26,
     "metadata": {},
     "output_type": "execute_result"
    }
   ],
   "source": [
    "model.invoke(japanes_prompt)"
   ]
  },
  {
   "cell_type": "markdown",
   "metadata": {},
   "source": [
    "### 3. Chain\n",
    "\n"
   ]
  },
  {
   "cell_type": "code",
   "execution_count": 27,
   "metadata": {},
   "outputs": [],
   "source": [
    "chain = prompt|model"
   ]
  },
  {
   "cell_type": "code",
   "execution_count": 29,
   "metadata": {},
   "outputs": [
    {
     "data": {
      "text/plain": [
       "AIMessage(content='안녕하세요는 스페인어로 \"Hola\"라고 말합니다.', additional_kwargs={'refusal': None}, response_metadata={'token_usage': {'completion_tokens': 15, 'prompt_tokens': 19, 'total_tokens': 34, 'completion_tokens_details': {'audio_tokens': None, 'reasoning_tokens': 0}, 'prompt_tokens_details': {'audio_tokens': None, 'cached_tokens': 0}}, 'model_name': 'gpt-4o-mini-2024-07-18', 'system_fingerprint': 'fp_8bfc6a7dc2', 'finish_reason': 'stop', 'logprobs': None}, id='run-bba3d208-28bb-4417-9a3b-286bdfc0693b-0', usage_metadata={'input_tokens': 19, 'output_tokens': 15, 'total_tokens': 34, 'input_token_details': {'cache_read': 0}, 'output_token_details': {'reasoning': 0}})"
      ]
     },
     "execution_count": 29,
     "metadata": {},
     "output_type": "execute_result"
    }
   ],
   "source": [
    "chain.invoke({\"country\": \"스페인어\"})"
   ]
  },
  {
   "cell_type": "code",
   "execution_count": 37,
   "metadata": {},
   "outputs": [],
   "source": [
    "from langchain_core.messages import AIMessageChunk\n",
    "response = chain.stream({\"country\": \"스페인어\"})\n",
    "\n",
    "\n",
    "def stream(response):\n",
    "    answer = \"\"\n",
    "    for token in response:\n",
    "        if isinstance(token, AIMessageChunk):\n",
    "                answer += token.content\n",
    "                print(token.content, end=\"\", flush=True)\n",
    "        elif isinstance(token, str):\n",
    "                answer += token\n",
    "                print(token, end=\"\", flush=True)"
   ]
  },
  {
   "cell_type": "markdown",
   "metadata": {},
   "source": [
    "### 출력 파서 StrOutputParser 결과를 문자열 형식으로 출력"
   ]
  },
  {
   "cell_type": "code",
   "execution_count": 33,
   "metadata": {},
   "outputs": [],
   "source": [
    "from langchain_core.output_parsers import StrOutputParser\n",
    "output_parser = StrOutputParser()\n"
   ]
  },
  {
   "cell_type": "code",
   "execution_count": 35,
   "metadata": {},
   "outputs": [],
   "source": [
    "template = \"\"\"\n",
    "    너는 question에 상황을 학습용 영어회화를 해주는 어시스턴트야.\n",
    "    question에 [FORMAT]에 영어회화를 작성해.\n",
    "\n",
    "    question : {question}\n",
    "\n",
    "    FORMAT:\n",
    "    - 영어 회화:\n",
    "    - 한글 해석:\n",
    "\n",
    "\"\"\"\n",
    "\n",
    "prompt = PromptTemplate.from_template(template)\n"
   ]
  },
  {
   "cell_type": "code",
   "execution_count": 38,
   "metadata": {},
   "outputs": [
    {
     "name": "stdout",
     "output_type": "stream",
     "text": [
      "- 영어 회화: \n",
      "  A: Hi, I’d like to pick up my flight ticket that I reserved.  \n",
      "  B: Sure! Can I have your name and reservation number, please?  \n",
      "  A: My name is [Your Name], and my reservation number is [Your Reservation Number].  \n",
      "  B: Thank you! Here’s your ticket. Have a great flight!  \n",
      "\n",
      "- 한글 해석:  \n",
      "  A: 안녕하세요, 제가 예약한 비행기표를 받고 싶어요.  \n",
      "  B: 물론이죠! 이름과 예약 번호를 말씀해 주실 수 있나요?  \n",
      "  A: 제 이름은 [당신의 이름]이고, 예약 번호는 [당신의 예약 번호]입니다.  \n",
      "  B: 감사합니다! 여기 당신의 비행기표입니다. 좋은 비행 되세요!"
     ]
    }
   ],
   "source": [
    "chain = prompt|model|output_parser\n",
    "response = chain.invoke({\"question\":\"저는 안내데스크에서 예약한 비행기표를 받고 싶어요.\"})\n",
    "\n",
    "stream(response)"
   ]
  }
 ],
 "metadata": {
  "kernelspec": {
   "display_name": "lanchain_study311",
   "language": "python",
   "name": "python3"
  },
  "language_info": {
   "codemirror_mode": {
    "name": "ipython",
    "version": 3
   },
   "file_extension": ".py",
   "mimetype": "text/x-python",
   "name": "python",
   "nbconvert_exporter": "python",
   "pygments_lexer": "ipython3",
   "version": "3.11.10"
  }
 },
 "nbformat": 4,
 "nbformat_minor": 2
}
