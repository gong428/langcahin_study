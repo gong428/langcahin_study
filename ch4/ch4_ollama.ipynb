{
 "cells": [
  {
   "cell_type": "code",
   "execution_count": 1,
   "metadata": {},
   "outputs": [
    {
     "name": "stderr",
     "output_type": "stream",
     "text": [
      "C:\\Users\\Admin\\AppData\\Local\\Temp\\ipykernel_24864\\3539999137.py:7: LangChainDeprecationWarning: The class `ChatOllama` was deprecated in LangChain 0.3.1 and will be removed in 1.0.0. An updated version of the class exists in the :class:`~langchain-ollama package and should be used instead. To use it run `pip install -U :class:`~langchain-ollama` and import as `from :class:`~langchain_ollama import ChatOllama``.\n",
      "  llm = ChatOllama(model=\"gemma2:latest\")\n"
     ]
    },
    {
     "name": "stdout",
     "output_type": "stream",
     "text": [
      "딥러닝은 인공지능의 한 분야로, **인간의 뇌 신경망을 모방한 계층적인 인공신경망**을 사용하여 학습하는 기술입니다. \n",
      "\n",
      "쉽게 말해, 딥러닝 모델은 **거대한 데이터셋을 통해 수많은 매개변수를 조정하며 학습**합니다. 이 과정에서 이미지, 음성, 텍스트와 같은 다양한 형태의 데이터를 분석하고 패턴을 인식하여 특정 작업을 수행하도록 됩니다.\n",
      "\n",
      "**예시:**\n",
      "\n",
      "* **이미지 인식:** 고양이 사진과 개 사진을 구분하는 알고리즘\n",
      "* **음성 인식:** 음성을 텍스트로 변환하는 기술 (Siri, Alexa)\n",
      "* **자연어 처리:** 텍스트를 이해하고 분석하여 질문에 답하거나 번역하는 AI\n",
      "\n",
      "**딥러닝의 장점:**\n",
      "\n",
      "* **높은 정확도:** 인간 수준 또는 그 이상의 성능을 달성할 수 있습니다.\n",
      "* **자동 학습:** 데이터에서 패턴을 스스로 찾아내므로, 전문 지식 없이도 복잡한 작업을 처리 가능합니다.\n",
      "* **일반화 능력:** 새로운 데이터에 대한 예측에도 효과적입니다.\n",
      "\n",
      "**딥러닝의 단점:**\n",
      "\n",
      "* **데이터 요구량:** 대규모 데이터셋이 필요하며, 데이터 수집 및 전처리가 복잡할 수 있습니다.\n",
      "* **计算량:** 학습 과정에 많은 계산력이 필요합니다.\n",
      "* **블랙박스 문제:** 모델의 작동 방식을 명확히 이해하기 어려울 수 있습니다.\n",
      "\n",
      "\n"
     ]
    }
   ],
   "source": [
    "from langchain_community.chat_models import ChatOllama\n",
    "from langchain_core.output_parsers import StrOutputParser\n",
    "from langchain_core.prompts import ChatPromptTemplate\n",
    "from langchain_teddynote.messages import stream_response\n",
    "\n",
    "# Ollama 모델을 불러옵니다.\n",
    "llm = ChatOllama(model=\"gemma2:latest\")\n",
    "\n",
    "# 프롬프트\n",
    "prompt = ChatPromptTemplate.from_template(\"{topic} 에 대하여 간략히 설명해 줘.\")\n",
    "\n",
    "# 체인 생성\n",
    "chain = prompt | llm | StrOutputParser()\n",
    "\n",
    "# 간결성을 위해 응답은 터미널에 출력됩니다.\n",
    "answer = chain.stream({\"topic\": \"deep learning\"})\n",
    "\n",
    "# 스트리밍 출력\n",
    "stream_response(answer)\n"
   ]
  },
  {
   "cell_type": "code",
   "execution_count": 2,
   "metadata": {},
   "outputs": [
    {
     "name": "stdout",
     "output_type": "stream",
     "text": [
      "구글은 세계에서 가장 큰 인터넷 기업 중 하나입니다. \n",
      "\n",
      "**주요 활동:**\n",
      "\n",
      "* **검색 엔진**: 가장 유명한 검색 엔진으로, 웹 페이지, 이미지, 비디오 등을 찾는 데 사용됩니다.\n",
      "* **온라인 광고**: 구글 애드워즈와 같은 플랫폼을 통해 회사들이 제품과 서비스를 홍보하는 데 도움을 줍니다.\n",
      "* **클라우드 컴퓨팅**: 구글 클라우드 플랫폼은 데이터 저장, 소프트웨어 실행 등을 제공합니다.\n",
      "* **휴대폰 운영체제**: 안드로이드는 세계에서 가장 많이 사용되는 모바일 운영체제입니다.\n",
      "* **소셜 미디어**: 유튜브, Gmail, Google Maps 등 다양한 서비스를 제공하여 사람들이 연결하고 정보를 공유하도록 돕습니다.\n",
      "\n",
      "**핵심 가치:**\n",
      "\n",
      "* **사용자 중심**: 사용자의 필요와 만족을 최우선으로 생각합니다.\n",
      "* **혁신**: 새로운 기술과 서비스 개발에 끊임없이 노력합니다.\n",
      "* **개방성**: 데이터 및 소프트웨어를 공유하여 사용자들이 활용할 수 있도록 합니다.\n",
      "\n",
      "구글은 지속적인 성장과 발전을 통해 세계 사회에 큰 영향을 미치고 있습니다."
     ]
    }
   ],
   "source": [
    "async for chunks in chain.astream(\n",
    "    {\"topic\": \"구글\"}\n",
    "):  # 비동기적으로 체인을 실행하여 청크 단위로 결과를 반환합니다.\n",
    "    print(chunks, end=\"\", flush=True)  # 각 청크를 출력합니다."
   ]
  },
  {
   "cell_type": "code",
   "execution_count": 3,
   "metadata": {},
   "outputs": [],
   "source": [
    "from langchain_community.chat_models import ChatOllama\n",
    "\n",
    "llm = ChatOllama(\n",
    "    model=\"gemma2:latest\",  # 사용할 언어 모델을 지정합니다.\n",
    "    format=\"json\",  # 입출력 형식을 JSON으로 설정합니다.\n",
    "    temperature=0,\n",
    ")\n"
   ]
  },
  {
   "cell_type": "code",
   "execution_count": 4,
   "metadata": {},
   "outputs": [
    {
     "name": "stdout",
     "output_type": "stream",
     "text": [
      "{\n",
      "  \"places\": [\n",
      "    \"파리\",\n",
      "    \"로마\",\n",
      "    \"런던\",\n",
      "    \"암스테르담\",\n",
      "    \"바이에른\",\n",
      "    \"프라하\",\n",
      "    \"그리스 아크로폴리스\",\n",
      "    \"스위스 알프스\",\n",
      "    \"피렌체\",\n",
      "    \"비엔나\"\n",
      "  ]\n",
      "}\n"
     ]
    }
   ],
   "source": [
    "# JSON 답변을 요구하는 프롬프트 작성\n",
    "prompt = \"유럽 여행지 10곳을 알려주세요. key: `places`. resonse in JSON format.\"\n",
    "\n",
    "# 체인 호출\n",
    "response = llm.invoke(prompt)\n",
    "print(response.content)  # 생성된 응답을 출력합니다.\n"
   ]
  }
 ],
 "metadata": {
  "kernelspec": {
   "display_name": "lanchain_study311",
   "language": "python",
   "name": "python3"
  },
  "language_info": {
   "codemirror_mode": {
    "name": "ipython",
    "version": 3
   },
   "file_extension": ".py",
   "mimetype": "text/x-python",
   "name": "python",
   "nbconvert_exporter": "python",
   "pygments_lexer": "ipython3",
   "version": "3.11.10"
  }
 },
 "nbformat": 4,
 "nbformat_minor": 2
}
