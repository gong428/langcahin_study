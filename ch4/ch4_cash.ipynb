{
 "cells": [
  {
   "cell_type": "code",
   "execution_count": 1,
   "metadata": {},
   "outputs": [
    {
     "data": {
      "text/plain": [
       "True"
      ]
     },
     "execution_count": 1,
     "metadata": {},
     "output_type": "execute_result"
    }
   ],
   "source": [
    "from dotenv import load_dotenv\n",
    "\n",
    "load_dotenv()"
   ]
  },
  {
   "cell_type": "code",
   "execution_count": 2,
   "metadata": {},
   "outputs": [],
   "source": [
    "from langchain_openai import ChatOpenAI\n",
    "from langchain_core.prompts import PromptTemplate\n",
    "\n",
    "llm = ChatOpenAI(model_name = \"gpt-4o-mini\")\n",
    "prompt = PromptTemplate.from_template(\"{country} 에 대해서 200자 내외로 요약해줘\")\n",
    "chain = prompt|llm\n"
   ]
  },
  {
   "cell_type": "code",
   "execution_count": 3,
   "metadata": {},
   "outputs": [
    {
     "name": "stdout",
     "output_type": "stream",
     "text": [
      "한국은 동아시아에 위치한 국가로, 한반도의 남쪽에 자리잡고 있습니다. 서울이 수도이며, 고유한 문화와 역사를 가지고 있습니다. 기술과 경제 발전이 빠르게 이루어졌으며, K-pop, 한식, K-드라마 등으로 세계적으로 인지도를 높이고 있습니다. 한국은 민주주의 국가로, 교육 수준이 높고, IT 산업이 발달해 있습니다. 자연경관도 아름다워 관광명소가 많습니다.\n",
      "CPU times: total: 31.2 ms\n",
      "Wall time: 1.65 s\n"
     ]
    }
   ],
   "source": [
    "%%time \n",
    "response = chain.invoke({\"country\": \"한국\"})\n",
    "print(response.content)\n"
   ]
  },
  {
   "cell_type": "code",
   "execution_count": 5,
   "metadata": {},
   "outputs": [
    {
     "name": "stdout",
     "output_type": "stream",
     "text": [
      "한국은 동아시아에 위치한 국가로, 한반도의 남쪽에 자리잡고 있습니다. 서울이 수도이며, 고유한 문화와 역사를 가지고 있습니다. 전통과 현대가 조화롭게 어우러진 사회로, K-팝, K-드라마 등으로 세계적으로 유명합니다. 한국은 기술, 경제, 교육 등에서 높은 발전을 이루었으며, 다양한 자연 경관과 맛있는 음식이 특징입니다.\n",
      "CPU times: total: 15.6 ms\n",
      "Wall time: 2.33 s\n"
     ]
    }
   ],
   "source": [
    "%%time\n",
    "from langchain.globals import set_llm_cache\n",
    "from langchain_core.caches import InMemoryCache\n",
    "\n",
    "set_llm_cache(InMemoryCache())\n",
    "\n",
    "response = chain.invoke({\"country\": \"한국\"})\n",
    "print(response.content)"
   ]
  },
  {
   "cell_type": "code",
   "execution_count": 6,
   "metadata": {},
   "outputs": [
    {
     "name": "stdout",
     "output_type": "stream",
     "text": [
      "한국은 동아시아에 위치한 국가로, 한반도의 남쪽에 자리잡고 있습니다. 서울이 수도이며, 고유한 문화와 역사를 가지고 있습니다. 전통과 현대가 조화롭게 어우러진 사회로, K-팝, K-드라마 등으로 세계적으로 유명합니다. 한국은 기술, 경제, 교육 등에서 높은 발전을 이루었으며, 다양한 자연 경관과 맛있는 음식이 특징입니다.\n",
      "CPU times: total: 0 ns\n",
      "Wall time: 3.52 ms\n"
     ]
    }
   ],
   "source": [
    "%%time\n",
    "# 체인을 실행합니다.\n",
    "response = chain.invoke({\"country\": \"한국\"})\n",
    "print(response.content)\n"
   ]
  },
  {
   "cell_type": "code",
   "execution_count": 18,
   "metadata": {},
   "outputs": [
    {
     "name": "stdout",
     "output_type": "stream",
     "text": [
      "한국은 동아시아에 위치한 국가로, 한반도의 남쪽에 자리잡고 있습니다. 서울이 수도이며, 고유한 문화와 역사를 가지고 있습니다. 전통과 현대가 조화롭게 어우러진 사회로, K-팝, K-드라마 등으로 세계적으로 유명합니다. 한국은 기술, 경제, 교육 등에서 높은 발전을 이루었으며, 다양한 자연 경관과 맛있는 음식이 특징입니다.\n",
      "CPU times: total: 0 ns\n",
      "Wall time: 2 ms\n"
     ]
    }
   ],
   "source": [
    "%%time\n",
    "# 체인을 실행합니다.\n",
    "response = chain.invoke({\"country\": \"한국\"})\n",
    "print(response.content)\n"
   ]
  },
  {
   "cell_type": "code",
   "execution_count": 19,
   "metadata": {},
   "outputs": [],
   "source": [
    "from langchain_community.cache import SQLiteCache\n",
    "from langchain_core.globals import set_llm_cache\n",
    "import os\n",
    "\n",
    "# 캐시 디렉토리를 생성합니다.\n",
    "if not os.path.exists(\"cache\"):\n",
    "    os.makedirs(\"cache\")\n",
    "\n",
    "# SQLiteCache를 사용합니다.\n",
    "set_llm_cache(SQLiteCache(database_path=\"cache/llm_cache.db\"))\n"
   ]
  },
  {
   "cell_type": "code",
   "execution_count": 23,
   "metadata": {},
   "outputs": [
    {
     "name": "stdout",
     "output_type": "stream",
     "text": [
      "한국은 동아시아에 위치한 한반도의 국가로, 대한민국과 북한으로 나뉘어 있습니다. 서울이 수도이며, 경제는 세계적으로 발전한 편입니다. K-팝, 영화, 음식 등 문화가 세계적으로 인기를 끌고 있으며, 역사적으로는 고려와 조선 왕조를 거쳤습니다. 한국은 IT, 자동차, 전자제품 등 다양한 산업 분야에서 강점을 가지고 있습니다. 독특한 전통과 현대적 요소가 조화를 이루는 나라입니다.\n",
      "CPU times: total: 0 ns\n",
      "Wall time: 3 ms\n"
     ]
    }
   ],
   "source": [
    "%%time \n",
    "# 체인을 실행합니다.\n",
    "response = chain.invoke({\"country\": \"한국\"})\n",
    "print(response.content)\n"
   ]
  }
 ],
 "metadata": {
  "kernelspec": {
   "display_name": "lanchain_study311",
   "language": "python",
   "name": "python3"
  },
  "language_info": {
   "codemirror_mode": {
    "name": "ipython",
    "version": 3
   },
   "file_extension": ".py",
   "mimetype": "text/x-python",
   "name": "python",
   "nbconvert_exporter": "python",
   "pygments_lexer": "ipython3",
   "version": "3.11.10"
  }
 },
 "nbformat": 4,
 "nbformat_minor": 2
}
