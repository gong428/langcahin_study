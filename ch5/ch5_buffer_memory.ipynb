{
 "cells": [
  {
   "cell_type": "markdown",
   "metadata": {},
   "source": [
    "### ConversationBufferMemory\n",
    "ConversationBufferMemory는 대화 내용을 저장하고 관리하는 메모리 클래스입니다\n",
    "- save_context(): 대화 내용을 저장합니다.\n",
    "- load_memory_variables(): 저장된 대화 내용을 불러옵니다.\n",
    "- clear(): 저장된 모든 대화 내용을 삭제합니다."
   ]
  },
  {
   "cell_type": "code",
   "execution_count": 1,
   "metadata": {},
   "outputs": [
    {
     "name": "stderr",
     "output_type": "stream",
     "text": [
      "C:\\Users\\Admin\\AppData\\Local\\Temp\\ipykernel_11532\\1110307509.py:2: LangChainDeprecationWarning: Please see the migration guide at: https://python.langchain.com/docs/versions/migrating_memory/\n",
      "  memory = ConversationBufferMemory()\n"
     ]
    }
   ],
   "source": [
    "from langchain.memory import ConversationBufferMemory\n",
    "memory = ConversationBufferMemory()\n",
    "memory.save_context(\n",
    "    inputs={\n",
    "        \"human\": \"안녕하세요, 비대면으로 은행 계좌를 개설하고 싶습니다. 어떻게 시작해야 하나요?\"\n",
    "    },\n",
    "    outputs={\n",
    "        \"ai\": \"안녕하세요! 계좌 개설을 원하신다니 기쁩니다. 먼저, 본인 인증을 위해 신분증을 준비해 주시겠어요?\"\n",
    "    },\n",
    ")\n"
   ]
  },
  {
   "cell_type": "code",
   "execution_count": 2,
   "metadata": {},
   "outputs": [
    {
     "data": {
      "text/plain": [
       "{'history': 'Human: 안녕하세요, 비대면으로 은행 계좌를 개설하고 싶습니다. 어떻게 시작해야 하나요?\\nAI: 안녕하세요! 계좌 개설을 원하신다니 기쁩니다. 먼저, 본인 인증을 위해 신분증을 준비해 주시겠어요?'}"
      ]
     },
     "execution_count": 2,
     "metadata": {},
     "output_type": "execute_result"
    }
   ],
   "source": [
    "memory.load_memory_variables({})"
   ]
  },
  {
   "cell_type": "code",
   "execution_count": 3,
   "metadata": {},
   "outputs": [],
   "source": [
    "memory.save_context(\n",
    "    inputs={\"human\": \"네, 신분증을 준비했습니다. 이제 무엇을 해야 하나요?\"},\n",
    "    outputs={\n",
    "        \"ai\": \"감사합니다. 신분증 앞뒤를 명확하게 촬영하여 업로드해 주세요. 이후 본인 인증 절차를 진행하겠습니다.\"\n",
    "    },\n",
    ")"
   ]
  },
  {
   "cell_type": "code",
   "execution_count": 4,
   "metadata": {},
   "outputs": [],
   "source": [
    "# 2개의 대화를 저장합니다.\n",
    "memory.save_context(\n",
    "    inputs={\"human\": \"사진을 업로드했습니다. 본인 인증은 어떻게 진행되나요?\"},\n",
    "    outputs={\n",
    "        \"ai\": \"업로드해 주신 사진을 확인했습니다. 이제 휴대폰을 통한 본인 인증을 진행해 주세요. 문자로 발송된 인증번호를 입력해 주시면 됩니다.\"\n",
    "    },\n",
    ")\n",
    "memory.save_context(\n",
    "    inputs={\"human\": \"인증번호를 입력했습니다. 계좌 개설은 이제 어떻게 하나요?\"},\n",
    "    outputs={\n",
    "        \"ai\": \"본인 인증이 완료되었습니다. 이제 원하시는 계좌 종류를 선택하고 필요한 정보를 입력해 주세요. 예금 종류, 통화 종류 등을 선택할 수 있습니다.\"\n",
    "    },\n",
    ")\n"
   ]
  },
  {
   "cell_type": "code",
   "execution_count": 5,
   "metadata": {},
   "outputs": [
    {
     "name": "stdout",
     "output_type": "stream",
     "text": [
      "Human: 안녕하세요, 비대면으로 은행 계좌를 개설하고 싶습니다. 어떻게 시작해야 하나요?\n",
      "AI: 안녕하세요! 계좌 개설을 원하신다니 기쁩니다. 먼저, 본인 인증을 위해 신분증을 준비해 주시겠어요?\n",
      "Human: 네, 신분증을 준비했습니다. 이제 무엇을 해야 하나요?\n",
      "AI: 감사합니다. 신분증 앞뒤를 명확하게 촬영하여 업로드해 주세요. 이후 본인 인증 절차를 진행하겠습니다.\n",
      "Human: 사진을 업로드했습니다. 본인 인증은 어떻게 진행되나요?\n",
      "AI: 업로드해 주신 사진을 확인했습니다. 이제 휴대폰을 통한 본인 인증을 진행해 주세요. 문자로 발송된 인증번호를 입력해 주시면 됩니다.\n",
      "Human: 인증번호를 입력했습니다. 계좌 개설은 이제 어떻게 하나요?\n",
      "AI: 본인 인증이 완료되었습니다. 이제 원하시는 계좌 종류를 선택하고 필요한 정보를 입력해 주세요. 예금 종류, 통화 종류 등을 선택할 수 있습니다.\n"
     ]
    }
   ],
   "source": [
    "# history에 저장된 대화 기록을 확인합니다.\n",
    "print(memory.load_memory_variables({})[\"history\"])\n"
   ]
  },
  {
   "cell_type": "code",
   "execution_count": 7,
   "metadata": {},
   "outputs": [
    {
     "name": "stderr",
     "output_type": "stream",
     "text": [
      "C:\\Users\\Admin\\AppData\\Local\\Temp\\ipykernel_11532\\3425030217.py:8: LangChainDeprecationWarning: The class `ConversationChain` was deprecated in LangChain 0.2.7 and will be removed in 1.0. Use :meth:`~RunnableWithMessageHistory: https://python.langchain.com/v0.2/api_reference/core/runnables/langchain_core.runnables.history.RunnableWithMessageHistory.html` instead.\n",
      "  conversation = ConversationChain(\n"
     ]
    }
   ],
   "source": [
    "from langchain_openai import ChatOpenAI\n",
    "from langchain.chains import ConversationChain\n",
    "\n",
    "# LLM 모델을 생성합니다.\n",
    "llm = ChatOpenAI(model_name = \"gpt-4o-mini\")\n",
    "\n",
    "# ConversationChain을 생성합니다.\n",
    "conversation = ConversationChain(\n",
    "    # ConversationBufferMemory를 사용합니다.\n",
    "    llm=llm,\n",
    "    memory=ConversationBufferMemory(),\n",
    ")\n"
   ]
  },
  {
   "cell_type": "code",
   "execution_count": 8,
   "metadata": {},
   "outputs": [
    {
     "name": "stdout",
     "output_type": "stream",
     "text": [
      "안녕하세요! 비대면으로 은행 계좌를 개설하는 것은 주로 몇 가지 단계를 거치게 됩니다. 일반적으로 다음과 같은 과정을 따라야 합니다:\n",
      "\n",
      "1. **은행 선택**: 비대면 계좌 개설을 지원하는 은행을 선택하세요. 많은 은행들이 모바일 앱이나 웹사이트를 통해 비대면 계좌 개설 서비스를 제공합니다.\n",
      "\n",
      "2. **필요 서류 준비**: 신분증(주민등록증, 운전면허증 등)과 같은 기본적인 신분 확인 서류가 필요합니다. 일부 은행에서는 추가적인 정보나 서류를 요구할 수도 있으니 미리 확인해 보세요.\n",
      "\n",
      "3. **온라인 신청**: 선택한 은행의 웹사이트나 모바일 앱에 접속하여 계좌 개설 신청을 시작합니다. 일반적으로 이름, 생년월일, 주소, 연락처 등 개인 정보를 입력해야 합니다.\n",
      "\n",
      "4. **신원 확인 절차**: 많은 은행들이 비대면 신원 확인을 위해 얼굴 인식 또는 비디오 통화를 요구할 수 있습니다. 이 과정에서 신분증을 제시해야 할 수도 있습니다.\n",
      "\n",
      "5. **계좌 정보 확인 및 인증**: 계좌 개설이 승인되면, 계좌 번호와 관련된 정보가 제공됩니다. 이 정보는 안전하게 보관해야 합니다.\n",
      "\n",
      "6. **서비스 이용 시작**: 계좌가 개설되면 바로 온라인 뱅킹 서비스나 모바일 뱅킹 앱을 통해 다양한 금융 거래를 시작할 수 있습니다.\n",
      "\n",
      "각 은행마다 세부 과정이나 요구 사항이 다를 수 있으니, 미리 해당 은행의 공식 웹사이트를 참고하는 것이 좋습니다. 추가로 궁금한 점이 있으면 말씀해 주세요!\n"
     ]
    }
   ],
   "source": [
    "# 대화를 시작합니다.\n",
    "response = conversation.predict(\n",
    "    input=\"안녕하세요, 비대면으로 은행 계좌를 개설하고 싶습니다. 어떻게 시작해야 하나요?\"\n",
    ")\n",
    "print(response)\n"
   ]
  },
  {
   "cell_type": "code",
   "execution_count": 9,
   "metadata": {},
   "outputs": [
    {
     "name": "stdout",
     "output_type": "stream",
     "text": [
      "안녕하세요! 비대면으로 은행 계좌를 개설하는 것은 주로 몇 가지 단계를 거치게 됩니다. 일반적으로 다음과 같은 과정을 따라야 합니다:\n",
      "\n",
      "1. **은행 선택**: 비대면 계좌 개설을 지원하는 은행을 선택하세요. 많은 은행들이 모바일 앱이나 웹사이트를 통해 비대면 계좌 개설 서비스를 제공합니다.\n",
      "\n",
      "2. **필요 서류 준비**: 신분증(주민등록증, 운전면허증 등)과 같은 기본적인 신분 확인 서류가 필요합니다. 일부 은행에서는 추가적인 정보나 서류를 요구할 수도 있으니 미리 확인해 보세요.\n",
      "\n",
      "3. **온라인 신청**: 선택한 은행의 웹사이트나 모바일 앱에 접속하여 계좌 개설 신청을 시작합니다. 일반적으로 이름, 생년월일, 주소, 연락처 등 개인 정보를 입력해야 합니다.\n",
      "\n",
      "4. **신원 확인 절차**: 많은 은행들이 비대면 신원 확인을 위해 얼굴 인식 또는 비디오 통화를 요구할 수 있습니다. 이 과정에서 신분증을 제시해야 할 수도 있습니다.\n",
      "\n",
      "5. **계좌 정보 확인 및 인증**: 계좌 개설이 승인되면, 계좌 번호와 관련된 정보가 제공됩니다. 이 정보는 안전하게 보관해야 합니다.\n",
      "\n",
      "6. **서비스 이용 시작**: 계좌가 개설되면 바로 온라인 뱅킹 서비스나 모바일 뱅킹 앱을 통해 다양한 금융 거래를 시작할 수 있습니다.\n",
      "\n",
      "각 은행마다 세부 과정이나 요구 사항이 다를 수 있으니, 미리 해당 은행의 공식 웹사이트를 참고하는 것이 좋습니다. 추가로 궁금한 점이 있으면 말씀해 주세요!\n"
     ]
    }
   ],
   "source": [
    "print(response)"
   ]
  },
  {
   "cell_type": "code",
   "execution_count": 10,
   "metadata": {},
   "outputs": [
    {
     "name": "stdout",
     "output_type": "stream",
     "text": [
      "물론입니다! 비대면으로 은행 계좌를 개설하는 과정을 불렛포인트 형식으로 정리해 드릴게요.\n",
      "\n",
      "- **은행 선택**: 비대면 계좌 개설을 지원하는 은행 선택\n",
      "- **필요 서류 준비**:\n",
      "  - 신분증 (주민등록증, 운전면허증 등)\n",
      "  - 추가 서류 확인 (은행에 따라 다를 수 있음)\n",
      "- **온라인 신청**:\n",
      "  - 은행의 웹사이트나 모바일 앱 접속\n",
      "  - 개인 정보 입력 (이름, 생년월일, 주소, 연락처 등)\n",
      "- **신원 확인 절차**:\n",
      "  - 얼굴 인식 또는 비디오 통화 요구 가능\n",
      "  - 신분증 제시 필요할 수 있음\n",
      "- **계좌 정보 확인 및 인증**:\n",
      "  - 계좌 개설 승인 후 계좌 번호 및 관련 정보 제공\n",
      "- **서비스 이용 시작**:\n",
      "  - 온라인 뱅킹 또는 모바일 뱅킹 앱을 통해 금융 거래 시작\n",
      "\n",
      "이렇게 정리할 수 있습니다! 추가적으로 궁금한 점이 있으시면 언제든지 말씀해 주세요!\n"
     ]
    }
   ],
   "source": [
    "# 이전 대화내용을 불렛포인트로 정리해 달라는 요청을 보냅니다.\n",
    "response = conversation.predict(\n",
    "    input=\"이전 답변을 불렛포인트 형식으로 정리하여 알려주세요.\"\n",
    ")\n",
    "print(response)\n"
   ]
  }
 ],
 "metadata": {
  "kernelspec": {
   "display_name": "lanchain_study311",
   "language": "python",
   "name": "python3"
  },
  "language_info": {
   "codemirror_mode": {
    "name": "ipython",
    "version": 3
   },
   "file_extension": ".py",
   "mimetype": "text/x-python",
   "name": "python",
   "nbconvert_exporter": "python",
   "pygments_lexer": "ipython3",
   "version": "3.11.10"
  }
 },
 "nbformat": 4,
 "nbformat_minor": 2
}
